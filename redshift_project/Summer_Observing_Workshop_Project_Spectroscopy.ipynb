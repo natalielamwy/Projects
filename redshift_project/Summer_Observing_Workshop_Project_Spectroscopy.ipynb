{
 "cells": [
  {
   "attachments": {},
   "cell_type": "markdown",
   "metadata": {
    "id": "epSVWQl299Bk"
   },
   "source": [
    "# Using Spectroscopy to Study Galaxies\n",
    "\n",
    "## What is a Spectrum?\n",
    "Light, similar to sound, is energy that travels as a wave (a wave of electric and magnetic fields in the case of light). The *wavelength* of light just describes the distance between peaks in a traveling light wave. The figure below shows a wave with its wavelength labeled.\n",
    "\n",
    "![figure1](images/wavelength_6.png)\n",
    "\n",
    "It is rare for anything to emit light at just *one* wavelength, however. Almost everything that we see is made up of light at many different wavelengths. Let's imagine that we wanted to know how much light of each wavelength is being emitted by a light source, say the Sun. To accomplish this, we can take a *spectrum*, meaning that we split the light into its component colors or wavelengths. This is what a prism does when it makes a rainbow out of sunlight: it splits up light from the Sun into all of the visible colors from red to violet, as shown below. \n",
    "\n",
    "![figure2](images/prismcolors.png)\n",
    "\n",
    "Similar to sunlight, when we collect the light from a star or a galaxy and spread it out, we can study how bright something is at each wavelength: a.k.a., its spectrum. Analyzing the spectrum of an object tells us a lot of information: its temperature, what it's made of, how fast it's moving, and more.\n",
    "\n",
    "## How Do we Get so Much Information from a Spectrum?\n",
    "When we split up the light coming from a light bulb (for example) and look at its spectrum, it looks like a smooth rainbow, like the top panel of the figure below, where the x-axis is wavelength in nanometers. But, if you take hydrogen gas, super heat it/shock into a glowing plasma, and take a spectrum of the glowing hydrogen, it will look like the bottom panel of the figure below, with light only showing up at very specific wavelengths.\n",
    "\n",
    "![figure3](images/spectrum.png)\n",
    "\n",
    "These features at specific wavelengths are called *emission lines*. Each chemical element gives off light at particular wavelengths when its atoms get excited (like in a hot plasma), so these lines act like a fingerprint that tells us which elements are present. You can see examples below of emission lines coming from other elements, acting as unique \"fingerprints\" for each element.\n",
    "\n",
    "![figure4](images/element_spectra.png)\n",
    "\n",
    "## What Produces Emission Lines in a Galaxy?\n",
    "Hot plasma may not be common here on Earth, but it is quite common in galaxies! Emission lines in galaxies are mostly produced by clouds of gas and plasma that are being energized by nearby sources of energy, usually ultraviolet light, x-rays, or collisions. These gas clouds are part of the interstellar medium (ISM), which fills the space between stars. We will elaborate on this in the next section.\n",
    "\n",
    "Young, hot stars can heat the surrounding hydrogen gas and cause it to glow, producing strong hydrogen emission lines.\n",
    "\n",
    "Exploding stars (supernovae), stellar winds, and supermassive black holes (AGN) can also energize the gas and influence the shape of the spectrum.\n",
    "\n",
    "## What is the Interstellar Medium (ISM)?\n",
    "You may have heard that space is a vacuum, but this isn't completely true. The reason that people say this is because, compared to Earth's atmosphere, the matter in space is *extremely* diffuse. To give you an idea of how diffuse this gas is, Earth's atmosphere has roughly $10^{19}$ particles per cubic centimeter. In many regions of the ISM, you will typically find $10^2 - 10^4$ particles per cubic centimeter. In other words, the Earth's atmosphere can be up to **one hundred thousand trillion** times denser than the ISM! And yet, even though it is widely spread out, there is so much material in the ISM that it emits enormous amounts of light when it is energized.\n",
    "\n",
    "The interstellar medium is made of gas (mostly hydrogen and helium) and dust that fills the space between stars in a galaxy, and it plays a very important role in galaxy evolution. New stars form out of this gas, and the deaths of stars return energy and elements back into the medium. When the gas in the ISM is heated or ionized, it produces *emission lines*, just like the ones shown in the images above.\n",
    "\n",
    "## Redshift ($z$) and the Expanding Universe?\n",
    "We have known since the 1920s that the universe is expanding, which means that distant galaxies appear to be moving away from us. When light from a distant galaxy is emitted, it travels towards the Earth through the expanding Universe, and this causes the light waves to become stretched out, like a slinky. This effect causes the entire spectrum to \"shift\" toward redder colors and is known as **redshift**. The more distant a galaxy is, the more that its light is \"redshifted\". You can see this effect in the image below. By measuring how much the light is redshifted, astronomers can determine how far away a galaxy is and learn about the history and expansion of the universe.\n",
    "\n",
    "![figure5](images/Measuring_Distance_With_Redshift.jpg)\n",
    "\n",
    "## Observed Wavelength and Redshift\n",
    "\n",
    "When we observe a distant, \"redshifted\" galaxy's spectrum, we see that the wavelengths of its emission lines are at redder (larger) wavelengths compared to where they would appear in a laboratory. This **redshift** ($z$) is calculated by relating the **observed wavelength** $\\lambda_{\\text{obs}}$ to the **rest-frame (original/laboratory) wavelength** $\\lambda_{\\text{rest}}$ using the equation:\n",
    "\n",
    "$$\n",
    "\\lambda_{\\text{obs}} = \\lambda_{\\text{rest}} (1 + z)\n",
    "$$\n",
    "\n",
    "Below, we see an image showing how a galaxy's spectrum changes depending on its redshift, or how far away it is. See any emission lines that look familiar in the top panel? (*Hint: Look at the Hydrogen emission line spectrum in one of the images above.*)\n",
    "\n",
    "![figure6](images/galaxy_redshift_illustration.png)"
   ]
  },
  {
   "cell_type": "markdown",
   "metadata": {
    "id": "9tuV4CU6eE4V"
   },
   "source": [
    "# The goal of this project:\n",
    "\n",
    "Now that you know what redshift is and how it affects spectra, you're ready to apply that knowledge to real data.\n",
    "\n",
    "In this project, you'll measure the observed wavelength of an emission line in several galaxy spectra and match each one to its known redshift. Then, you'll perform a linear fit to determine the line's rest-frame wavelength and figure out which element it comes from!\n",
    "\n",
    "---"
   ]
  },
  {
   "cell_type": "markdown",
   "metadata": {
    "id": "eMyWSVSb-fPF"
   },
   "source": [
    "# Important emission lines in galaxy spectra\n",
    "\n",
    "> Coding learning goal: \n",
    "*   Read and understand what a function does and how to use it\n",
    "*   Plot a spectrum\n",
    "\n",
    "Let's look at a nice spectrum of a galaxy!"
   ]
  },
  {
   "cell_type": "code",
   "execution_count": null,
   "metadata": {
    "id": "7dp7RhILgAoK"
   },
   "outputs": [],
   "source": [
    "import numpy as np\n",
    "import matplotlib.pyplot as plt\n",
    "from scipy.optimize import curve_fit\n",
    "from astropy.table import Table\n",
    "from helper_functions import *\n"
   ]
  },
  {
   "cell_type": "code",
   "execution_count": null,
   "metadata": {
    "id": "QDdPhE0RhBsw"
   },
   "outputs": [],
   "source": [
    "# Define the data directory\n",
    "\n",
    "# example: raw_data_dir = 'data/raw_spectra/'\n",
    "raw_data_dir = 'FIXME_the_name_of_the_folder/'  # Where the spectra are stored\n",
    "figure_dir = 'FIXME_the_name_of_the_folder/'    # Where you want to save plots"
   ]
  },
  {
   "cell_type": "code",
   "execution_count": null,
   "metadata": {},
   "outputs": [],
   "source": [
    "def read_spectrum(filename):\n",
    "    \"\"\"\n",
    "    Reads a FITS file from SDSS and returns the spectrum data as an Astropy Table.\n",
    "    \n",
    "    Parameters:\n",
    "    filename (str): The path to the FITS file.\n",
    "    \n",
    "    Returns:\n",
    "    astropy.table.Table: The spectrum data.\n",
    "    \"\"\"\n",
    "    \n",
    "    t = Table.read(filename, hdu='COADD')\n",
    "\n",
    "    wavelength = 10**t['loglam']\n",
    "    flux = t['flux']\n",
    "\n",
    "    return wavelength, flux"
   ]
  },
  {
   "cell_type": "code",
   "execution_count": null,
   "metadata": {
    "id": "zMlagYU9-lw3"
   },
   "outputs": [],
   "source": [
    "# Pre-made function to plot a spectrum\n",
    "def plot_spectrum(filename, wave_range=None, fig=None, ax=None):\n",
    "    \"\"\"\n",
    "    Plots the spectrum from the given filename.\n",
    "\n",
    "    Parameters:\n",
    "        filename (str): Path to the spectrum file.\n",
    "        wave_range (tuple, optional): (wave_min, wave_max) for x-axis limits.\n",
    "        fig (matplotlib.figure.Figure, optional): Existing figure to use.\n",
    "        ax (matplotlib.axes.Axes, optional): Existing axes to use.\n",
    "\n",
    "    Returns:\n",
    "        fig, ax: The figure and axis containing the plot.\n",
    "    \"\"\"\n",
    "    wave, flux = read_spectrum(filename)\n",
    "\n",
    "    # Apply wavelength range if specified\n",
    "    if wave_range is not None:\n",
    "        wave_min, wave_max = wave_range\n",
    "\n",
    "        # Create a mask to isolate the wavelength region\n",
    "        mask = (wave >= wave_min) & (wave <= wave_max)\n",
    "\n",
    "        # Apply the mask to the wavelength and flux arrays\n",
    "        wave = wave[mask]\n",
    "        flux = flux[mask]\n",
    "\n",
    "    # Create figure and axis if not provided\n",
    "    if ax is None or fig is None:\n",
    "        fig, ax = plt.subplots(figsize=(8, 4))\n",
    "\n",
    "    # Plot the spectrum\n",
    "    ax.step(wave, flux, where='mid', color='black', lw=1)\n",
    "    ax.set_xlabel('Wavelength [Å]')\n",
    "    ax.set_ylabel('Flux')\n",
    "\n",
    "    if wave_range is not None:\n",
    "        ax.set_xlim(wave_min, wave_max)\n",
    "\n",
    "    return fig, ax\n"
   ]
  },
  {
   "cell_type": "markdown",
   "metadata": {},
   "source": [
    "## Plot a spectrum"
   ]
  },
  {
   "cell_type": "code",
   "execution_count": null,
   "metadata": {
    "id": "pqpgj3AF-yWi"
   },
   "outputs": [],
   "source": [
    "# Read in a spectrum and plot it!\n",
    "\n",
    "# Specify the file name of the spectrum\n",
    "spectrum_fn = 'FIXME_spectrum1.txt'\n",
    "\n",
    "# Plot the spectrum!\n",
    "# First, let's define a figure and axis\n",
    "fig, ax = plt.subplots(1,1, figsize=(8,4))\n",
    "\n",
    "# Now, let's use the plot_spectrum() function we saw above\n",
    "fig, ax = plot_spectrum(raw_data_dir+spectrum_fn, fig=fig, ax=ax)"
   ]
  },
  {
   "cell_type": "markdown",
   "metadata": {
    "id": "QRn0RlYX-_Kk"
   },
   "source": [
    "Awesome! You just plotted a spectrum of a galaxy! Notice that we did this by using a function called \"plot_spectrum\" that we created above. Make sure you understand what is happening in the function.\n",
    "\n",
    "What kind of features can you see in the spectrum? Continuum? Emission lines? Absorption lines? "
   ]
  },
  {
   "cell_type": "markdown",
   "metadata": {},
   "source": [
    "## Zoom in on some emission lines\n",
    "\n",
    "Emission lines act like fingerprints for chemicals and elements in galaxies --- once you find a pattern, you start spotting them in most other spectra. Let's zoom into an easily recognizable group of 3 emission lines around 500nm..."
   ]
  },
  {
   "cell_type": "code",
   "execution_count": null,
   "metadata": {
    "id": "GeN3cWs1-yUL"
   },
   "outputs": [],
   "source": [
    "# Define the range of wavelengths to zoom in on\n",
    "min_wave = 400 #nm\n",
    "max_wave = 700 #nm\n",
    "test_wave_range = [min_wave, max_wave]   # Create a list with the min and max wavelength\n",
    "\n",
    "fig, ax = plt.subplots(1,1, figsize=(8,4))\n",
    "\n",
    "# Input the additional argument \"wave_range\" to plot_spectrum() \n",
    "# to zoom in on a specific wavelength range\n",
    "fig, ax = plot_spectrum(raw_data_dir+spectrum_fn, fig=fig, ax=ax, wave_range=test_wave_range)"
   ]
  },
  {
   "cell_type": "markdown",
   "metadata": {},
   "source": [
    "If the spectrum is not zoomed in enough, try changing min_wave and max_wave to capture the 3 emission lines better"
   ]
  },
  {
   "cell_type": "markdown",
   "metadata": {},
   "source": [
    "## Find the same group of emission lines in a different spectrum\n",
    "\n",
    "Now, let's plot another spectrum. Can you find this group of emission lines in a new spectrum? Try zooming into the group of lines. Are they still at around 500nm?"
   ]
  },
  {
   "cell_type": "code",
   "execution_count": null,
   "metadata": {
    "id": "rFTeIo69-yO9"
   },
   "outputs": [],
   "source": [
    "# Specify another file name \n",
    "spectrum_fn = 'FIXME_spectrum2.txt'\n",
    "\n",
    "# Define a new wavelength range\n",
    "min_wave = FIXME #nm\n",
    "max_wave = FIXME #nm\n",
    "test_wave_range = [min_wave, max_wave]\n",
    "\n",
    "fig, ax = plt.subplots(1,1, figsize=(8,4))\n",
    "fig, ax = plot_spectrum(raw_data_dir+spectrum_fn, fig=fig, ax=ax, wave_range=test_wave_range)"
   ]
  },
  {
   "cell_type": "markdown",
   "metadata": {
    "id": "RPOV8V8JAPbn"
   },
   "source": [
    "What is the approximate wavelength of the rightmost emission line?\n",
    "\n",
    "This emission line usually falls at around 500nm. Is the one you located bluer or redder than 500nm? What happened to this galaxy?\n",
    "\n",
    "The emission lines of far-away galaxies are often redshifted away from what they would look like in a laboratory. Since the wavelength of an emission line of a redshifted galaxy isn't its true wavelength, we call it the \"observed wavelength\"."
   ]
  },
  {
   "cell_type": "markdown",
   "metadata": {
    "id": "5o6Vf8JNAc0K"
   },
   "source": [
    "# Using code to find the wavelength of an emission line\n",
    "\n",
    "> Coding learning goal: \\\\\n",
    "*   Overlay a curve on a plot\n",
    "\n",
    "While we can try to figure out the observed wavelength of emission lines by eye and hope for the best, that's not very scientific... Is the emission line exactly at one single wavelength? \n",
    "\n",
    "What we can do instead, is write some code to find the \"center\" of an emission line. The function \"fit_gaussian\" helps us create a model emission line that best matches the one in the spectrum. After it figures out the best model, it tells us what the emission line \"center\" of this model is."
   ]
  },
  {
   "cell_type": "code",
   "execution_count": null,
   "metadata": {
    "id": "UqEenfU8Ar_L"
   },
   "outputs": [],
   "source": [
    "# Define a Gaussian function for fitting\n",
    "def gaussian(x, amp, cen, wid, offset):\n",
    "  return amp * np.exp(-(x-cen)**2 / (2*wid**2)) + offset\n",
    "\n",
    "# Pre-made function to fit Gaussian profile to an emission line\n",
    "def fit_gaussian(filename, wave_range=[4980, 5020]):\n",
    "  wave, flux = read_spectrum(filename)\n",
    "\n",
    "  wave_min, wave_max = wave_range\n",
    "  # Create a mask to isolate the wavelength region\n",
    "  mask = (wave >= wave_min) & (wave <= wave_max)\n",
    "  # Apply the mask to the wavelength and flux arrays\n",
    "  wave, flux = wave[mask], flux[mask]\n",
    "\n",
    "  # Fit a Gaussian profile to the emission line\n",
    "  p0 = [1, 500, 10, 0]  # Initial guess for the parameters\n",
    "  fit, cov = curve_fit(gaussian, wave, flux, p0=p0)\n",
    "  # fit contains the best-fit parameters (amp, cen, wid, offset)\n",
    "  # cov contains the error estimates for the parameters\n",
    "\n",
    "  return fit, cov\n"
   ]
  },
  {
   "cell_type": "code",
   "execution_count": null,
   "metadata": {
    "id": "Rqk2TqMPA-xC"
   },
   "outputs": [],
   "source": [
    "# Run fit_gaussian() on the first spectrum\n",
    "\n",
    "spectrum_fn = 'FIXME_spectrum1.txt'\n",
    "\n",
    "# Define a new wavelength range (good practice to re-set it here)\n",
    "min_wave = FIXME #nm\n",
    "max_wave = FIXME #nm\n",
    "test_wave_range = [min_wave, max_wave]\n",
    "\n",
    "fit, cov = fit_gaussian(raw_data_dir+spectrum_fn, wave_range=test_wave_range)\n"
   ]
  },
  {
   "cell_type": "code",
   "execution_count": null,
   "metadata": {},
   "outputs": [],
   "source": [
    "# Let's plot the spectrum and the best-fit Gaussian together\n",
    "\n",
    "fig, ax = plt.subplots(1,1, figsize=(8,4))\n",
    "fig, ax = plot_spectrum(raw_data_dir+spectrum_fn, fig=fig, ax=ax, wave_range=test_wave_range)\n",
    "\n",
    "# Use read_spectrum() to get the wavelength array for plotting\n",
    "wave, flux = read_spectrum(raw_data_dir+spectrum_fn)\n",
    "\n",
    "# Apply the gaussian function to the wavelength array\n",
    "flux_fit = gaussian(wave, *fit)  \n",
    "# Note: *fit unpacks the fit array into individual parameters\n",
    "# This is the same as gaussian(wave, fit[0], fit[1], fit[2], fit[3])\n",
    "\n",
    "# Plot the best-fit Gaussian\n",
    "ax.plot(wave, flux_fit, color='red', lw=2, label='Best-fit Gaussian')\n",
    "ax.set_title(f'Spectrum with Best-fit Gaussian for {spectrum_fn}')\n",
    "ax.legend()\n",
    "plt.show()"
   ]
  },
  {
   "cell_type": "code",
   "execution_count": null,
   "metadata": {
    "id": "y7acBX4ZBaqL"
   },
   "outputs": [],
   "source": [
    "# Print out the best-fit parameters\n",
    "print(f\"Best-fit parameters for spectrum in {spectrum_fn}\")\n",
    "print(f\"Amplitude: {fit[0]:.3f}\") # :.3f means print 3 decimal places\n",
    "print(f\"Center: {fit[1]:.3f}\")\n",
    "print(f\"Width: {fit[2]:.3f}\")\n",
    "print(f\"Offset: {fit[3]:.3f}\")\n"
   ]
  },
  {
   "cell_type": "markdown",
   "metadata": {
    "id": "JZbQo2N4C2CI"
   },
   "source": [
    "What is the observed wavelength of the emission line?  "
   ]
  },
  {
   "cell_type": "markdown",
   "metadata": {},
   "source": [
    "## Do the same process for the second spectrum"
   ]
  },
  {
   "cell_type": "code",
   "execution_count": null,
   "metadata": {},
   "outputs": [],
   "source": [
    "# Now, let's repeat the fitting for the second spectrum\n",
    "spectrum_fn = 'FIXME_spectrum2.txt'\n",
    "\n",
    "FIXME\n",
    "FIXME\n",
    "FIXME\n",
    "\n"
   ]
  },
  {
   "cell_type": "code",
   "execution_count": null,
   "metadata": {},
   "outputs": [],
   "source": [
    "FIXME\n",
    "FIXME\n",
    "FIXME\n",
    "FIXME\n"
   ]
  },
  {
   "cell_type": "markdown",
   "metadata": {},
   "source": [
    "How different are the observed wavelengths of this emission line in spectrum 1 and spectrum 2? "
   ]
  },
  {
   "cell_type": "markdown",
   "metadata": {
    "id": "QOjU2dXJC3V9"
   },
   "source": [
    "# Fitting emission lines in many spectra\n",
    "\n",
    "Now that we've found the wavelength of an emission line in one spectrum, let's do the same procedure for a whole bunch of spectra!"
   ]
  },
  {
   "cell_type": "markdown",
   "metadata": {
    "id": "YxEQs_ewC-N4"
   },
   "source": [
    "## Crop the spectra\n",
    "\n",
    "> Coding learning goal: \\\\\n",
    "*   Read in file names from a directory\n",
    "*   Save a list of information to a .txt file\n"
   ]
  },
  {
   "cell_type": "code",
   "execution_count": null,
   "metadata": {
    "id": "QcbyPLspDCd_"
   },
   "outputs": [],
   "source": [
    "# approx 10 spectra\n",
    "# use os.listdir to get the filenames, save in filenames_arr"
   ]
  },
  {
   "cell_type": "code",
   "execution_count": null,
   "metadata": {
    "id": "xUhHEYx-DexZ"
   },
   "outputs": [],
   "source": [
    "file_no = 0    # Change this number from 0 to 9\n",
    "\n",
    "# show the full spectrum\n",
    "\n",
    "\n",
    "\n",
    "# list of wave_range for each file_no\n",
    "wave_range_list = [[FIXME,FIXME],   # 0\n",
    "                   [FIXME,FIXME],   # 1\n",
    "]\n",
    "\n",
    "# example:\n",
    "# wave_range_list = [[100,150],   # 0\n",
    "#                    [200,230],   # 1\n",
    "#                    [200,230],   # 2 ........\n",
    "#                              ]  # 9\n"
   ]
  },
  {
   "cell_type": "code",
   "execution_count": null,
   "metadata": {
    "id": "620XmsfdDepD"
   },
   "outputs": [],
   "source": [
    "# save filename and wave_range_list into a .txt file\n"
   ]
  },
  {
   "cell_type": "markdown",
   "metadata": {
    "id": "q090ctDvJccH"
   },
   "source": [
    "Just to save you some time, we helped you crop about 100 other spectra!"
   ]
  },
  {
   "cell_type": "markdown",
   "metadata": {
    "id": "L3Q59uK_Jimn"
   },
   "source": [
    "## For Loop to apply the procedure on many spectra\n",
    "\n",
    "> Coding learning goal: \\\\\n",
    "*   Write for loops to apply a procedure to many files\n",
    "\n"
   ]
  },
  {
   "cell_type": "code",
   "execution_count": null,
   "metadata": {
    "id": "c7Kqb_VTHghJ"
   },
   "outputs": [],
   "source": [
    "# write a for loop to use fit_gaussian() on all our files\n",
    "# and save the fitted wavelength in an array"
   ]
  },
  {
   "cell_type": "code",
   "execution_count": null,
   "metadata": {
    "id": "WQulTgSSRBHX"
   },
   "outputs": [],
   "source": [
    "# show a few fits to make sure the code is okay"
   ]
  },
  {
   "cell_type": "code",
   "execution_count": null,
   "metadata": {
    "id": "MCAp7_PxC9tT"
   },
   "outputs": [],
   "source": [
    "# save array to the .txt file"
   ]
  },
  {
   "cell_type": "markdown",
   "metadata": {
    "id": "92AmdxsAP6Kh"
   },
   "source": [
    "# Adding redshift information to our catalog\n",
    "\n",
    "> Coding learning goal: \\\\\n",
    "*   Transfer information from one file into our main file\n",
    "\n"
   ]
  },
  {
   "cell_type": "code",
   "execution_count": null,
   "metadata": {
    "id": "wPgNW1muRH2l"
   },
   "outputs": [],
   "source": []
  },
  {
   "cell_type": "code",
   "execution_count": null,
   "metadata": {
    "id": "onsN6iyLRH0y"
   },
   "outputs": [],
   "source": []
  },
  {
   "cell_type": "markdown",
   "metadata": {
    "id": "X-7wNgrzX3nX"
   },
   "source": [
    "# Plotting our results"
   ]
  },
  {
   "cell_type": "markdown",
   "metadata": {
    "id": "dCoMckoTY6xy"
   },
   "source": [
    "## Observed wavelength vs. redshift"
   ]
  },
  {
   "cell_type": "code",
   "execution_count": null,
   "metadata": {
    "id": "_DyHlLQcRHyR"
   },
   "outputs": [],
   "source": [
    "# Populate a redshift array (x)\n",
    "\n",
    "# Populate an observed wavelength array (y)\n",
    "\n"
   ]
  },
  {
   "cell_type": "code",
   "execution_count": null,
   "metadata": {
    "id": "JbyiBGOGQCUm"
   },
   "outputs": [],
   "source": [
    "# Plot"
   ]
  },
  {
   "cell_type": "markdown",
   "metadata": {
    "id": "UDxZpeDiZO0A"
   },
   "source": [
    "## Fit a model to the data"
   ]
  },
  {
   "cell_type": "markdown",
   "metadata": {
    "id": "5x5htNgMZbtH"
   },
   "source": [
    "$\\lambda_{\\mathrm{obs}} = \\lambda_{\\mathrm{rest}} (1+z)$ \\\\\n",
    "where ....\n",
    "\n",
    "This looks like a straight line: $y = mx+b$ \\\\\n",
    "What is $x$? What is $y$?\n",
    "What is $m$ and $b$?"
   ]
  },
  {
   "cell_type": "code",
   "execution_count": null,
   "metadata": {
    "id": "ughGH1szZRsg"
   },
   "outputs": [],
   "source": [
    "# Define the equation\n",
    "\n",
    "def straight_line(x, FIXME):\n",
    "\n",
    "  return FIXME\n"
   ]
  },
  {
   "cell_type": "code",
   "execution_count": null,
   "metadata": {
    "id": "oH7Ci8zuaQvS"
   },
   "outputs": [],
   "source": [
    "# Use scipy.optimize.curve_fit()\n",
    "\n"
   ]
  },
  {
   "cell_type": "markdown",
   "metadata": {
    "id": "pcoSGgb3aW8z"
   },
   "source": [
    "## Plot our best-fit line"
   ]
  },
  {
   "cell_type": "code",
   "execution_count": null,
   "metadata": {
    "id": "rzxjoBd5aU6-"
   },
   "outputs": [],
   "source": [
    "# Plot data and overlay best-fit"
   ]
  },
  {
   "cell_type": "code",
   "execution_count": null,
   "metadata": {
    "id": "Dy7_OiXaae2c"
   },
   "outputs": [],
   "source": []
  },
  {
   "cell_type": "markdown",
   "metadata": {
    "id": "JgAHhAgRaiQM"
   },
   "source": [
    "# What is the rest wavelength of this emission line??"
   ]
  },
  {
   "cell_type": "code",
   "execution_count": null,
   "metadata": {
    "id": "94cBNFJDas2U"
   },
   "outputs": [],
   "source": []
  }
 ],
 "metadata": {
  "colab": {
   "provenance": []
  },
  "kernelspec": {
   "display_name": "Python 3 (ipykernel)",
   "language": "python",
   "name": "python3"
  },
  "language_info": {
   "codemirror_mode": {
    "name": "ipython",
    "version": 3
   },
   "file_extension": ".py",
   "mimetype": "text/x-python",
   "name": "python",
   "nbconvert_exporter": "python",
   "pygments_lexer": "ipython3",
   "version": "3.9.18"
  }
 },
 "nbformat": 4,
 "nbformat_minor": 4
}
